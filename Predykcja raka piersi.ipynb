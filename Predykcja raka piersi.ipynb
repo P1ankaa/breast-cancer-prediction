{
 "cells": [
  {
   "cell_type": "code",
   "execution_count": null,
   "metadata": {
    "executionInfo": {
     "elapsed": 1216,
     "status": "ok",
     "timestamp": 1744916783566,
     "user": {
      "displayName": "Oskar Panicz",
      "userId": "03089802931610276412"
     },
     "user_tz": -120
    },
    "id": "ql-XQGarIpkT"
   },
   "outputs": [],
   "source": [
    "# Import necessary libraries for data processing, modeling, and visualization\n",
    "import pandas as pd\n",
    "import numpy as np\n",
    "from sklearn.model_selection import train_test_split\n",
    "from sklearn.neighbors import KNeighborsClassifier\n",
    "from sklearn.metrics import accuracy_score, classification_report\n",
    "import seaborn as sns\n",
    "import matplotlib.pyplot as plt"
   ]
  },
  {
   "cell_type": "code",
   "execution_count": null,
   "metadata": {
    "colab": {
     "base_uri": "https://localhost:8080/",
     "height": 241
    },
    "executionInfo": {
     "elapsed": 83,
     "status": "ok",
     "timestamp": 1744918483776,
     "user": {
      "displayName": "Oskar Panicz",
      "userId": "03089802931610276412"
     },
     "user_tz": -120
    },
    "id": "SD4OB152JSCW",
    "outputId": "c95d941a-6976-4254-e8e0-63c360d06663"
   },
   "outputs": [
    {
     "data": {
      "text/html": [
       "<div>\n",
       "<style scoped>\n",
       "    .dataframe tbody tr th:only-of-type {\n",
       "        vertical-align: middle;\n",
       "    }\n",
       "\n",
       "    .dataframe tbody tr th {\n",
       "        vertical-align: top;\n",
       "    }\n",
       "\n",
       "    .dataframe thead th {\n",
       "        text-align: right;\n",
       "    }\n",
       "</style>\n",
       "<table border=\"1\" class=\"dataframe\">\n",
       "  <thead>\n",
       "    <tr style=\"text-align: right;\">\n",
       "      <th></th>\n",
       "      <th>Uniformity of Cell Size</th>\n",
       "      <th>Uniformity of Cell Shape</th>\n",
       "      <th>Marginal Adhesion</th>\n",
       "      <th>Single Epithelial Cell Size</th>\n",
       "      <th>Bare Nuclei</th>\n",
       "      <th>Bland Chromatin</th>\n",
       "      <th>Normal Nucleoli</th>\n",
       "      <th>Mitoses</th>\n",
       "      <th>Class</th>\n",
       "    </tr>\n",
       "  </thead>\n",
       "  <tbody>\n",
       "    <tr>\n",
       "      <th>1000025</th>\n",
       "      <td>1.0</td>\n",
       "      <td>1.0</td>\n",
       "      <td>1.0</td>\n",
       "      <td>2.0</td>\n",
       "      <td>1.0</td>\n",
       "      <td>3.0</td>\n",
       "      <td>1.0</td>\n",
       "      <td>1.0</td>\n",
       "      <td>2.0</td>\n",
       "    </tr>\n",
       "    <tr>\n",
       "      <th>1002945</th>\n",
       "      <td>4.0</td>\n",
       "      <td>4.0</td>\n",
       "      <td>5.0</td>\n",
       "      <td>7.0</td>\n",
       "      <td>10.0</td>\n",
       "      <td>3.0</td>\n",
       "      <td>2.0</td>\n",
       "      <td>1.0</td>\n",
       "      <td>2.0</td>\n",
       "    </tr>\n",
       "    <tr>\n",
       "      <th>1015425</th>\n",
       "      <td>1.0</td>\n",
       "      <td>1.0</td>\n",
       "      <td>1.0</td>\n",
       "      <td>2.0</td>\n",
       "      <td>2.0</td>\n",
       "      <td>3.0</td>\n",
       "      <td>1.0</td>\n",
       "      <td>1.0</td>\n",
       "      <td>2.0</td>\n",
       "    </tr>\n",
       "    <tr>\n",
       "      <th>1016277</th>\n",
       "      <td>8.0</td>\n",
       "      <td>8.0</td>\n",
       "      <td>1.0</td>\n",
       "      <td>3.0</td>\n",
       "      <td>4.0</td>\n",
       "      <td>3.0</td>\n",
       "      <td>7.0</td>\n",
       "      <td>1.0</td>\n",
       "      <td>2.0</td>\n",
       "    </tr>\n",
       "    <tr>\n",
       "      <th>1017023</th>\n",
       "      <td>1.0</td>\n",
       "      <td>1.0</td>\n",
       "      <td>3.0</td>\n",
       "      <td>2.0</td>\n",
       "      <td>1.0</td>\n",
       "      <td>3.0</td>\n",
       "      <td>1.0</td>\n",
       "      <td>1.0</td>\n",
       "      <td>2.0</td>\n",
       "    </tr>\n",
       "  </tbody>\n",
       "</table>\n",
       "</div>"
      ],
      "text/plain": [
       "         Uniformity of Cell Size  Uniformity of Cell Shape  Marginal Adhesion  \\\n",
       "1000025                      1.0                       1.0                1.0   \n",
       "1002945                      4.0                       4.0                5.0   \n",
       "1015425                      1.0                       1.0                1.0   \n",
       "1016277                      8.0                       8.0                1.0   \n",
       "1017023                      1.0                       1.0                3.0   \n",
       "\n",
       "         Single Epithelial Cell Size  Bare Nuclei  Bland Chromatin  \\\n",
       "1000025                          2.0          1.0              3.0   \n",
       "1002945                          7.0         10.0              3.0   \n",
       "1015425                          2.0          2.0              3.0   \n",
       "1016277                          3.0          4.0              3.0   \n",
       "1017023                          2.0          1.0              3.0   \n",
       "\n",
       "         Normal Nucleoli  Mitoses  Class  \n",
       "1000025              1.0      1.0    2.0  \n",
       "1002945              2.0      1.0    2.0  \n",
       "1015425              1.0      1.0    2.0  \n",
       "1016277              7.0      1.0    2.0  \n",
       "1017023              1.0      1.0    2.0  "
      ]
     },
     "execution_count": 24,
     "metadata": {},
     "output_type": "execute_result"
    }
   ],
   "source": [
    "# Wczytaj dane z pliku CSV\n",
    "data = pd.read_csv('breast-cancer-wisconsin.data')\n",
    "\n",
    "# Usuń pierwszą kolumnę (zwykle ID)\n",
    "data = data.drop(data.columns[0], axis=1)\n",
    "\n",
    "# Zamień brakujące wartości oznaczone jako '?' na NaN\n",
    "data.replace('?', np.nan, inplace=True)\n",
    "\n",
    "# Przekonwertuj wszystkie wartości na typ float\n",
    "data = data.astype(float)\n",
    "\n",
    "# Zamień brakujące wartości (NaN) na medianę z kolumny\n",
    "data.replace(np.nan, data.median(), inplace=True)\n",
    "\n",
    "# Wyświetl pierwsze 5 wierszy danych\n",
    "data.head()"
   ]
  },
  {
   "cell_type": "code",
   "execution_count": null,
   "metadata": {
    "executionInfo": {
     "elapsed": 17,
     "status": "ok",
     "timestamp": 1744918711322,
     "user": {
      "displayName": "Oskar Panicz",
      "userId": "03089802931610276412"
     },
     "user_tz": -120
    },
    "id": "mEjdlkpsKNT8"
   },
   "outputs": [],
   "source": [
    "x = data.drop('Class', axis=1)\n",
    "y = data['Class']\n",
    "# Podziel dane na cechy (x) i etykiety (y)\n",
    "x_train, x_test, y_train, y_test = train_test_split(x, y, test_size=0.2, random_state=42)"
   ]
  },
  {
   "cell_type": "code",
   "execution_count": null,
   "metadata": {
    "executionInfo": {
     "elapsed": 55,
     "status": "ok",
     "timestamp": 1744918733849,
     "user": {
      "displayName": "Oskar Panicz",
      "userId": "03089802931610276412"
     },
     "user_tz": -120
    },
    "id": "08xw5p_9KKU_"
   },
   "outputs": [],
   "source": [
    "# Utwórz model klasyfikatora KNN z 7 sąsiadami\n",
    "model = KNeighborsClassifier(n_neighbors=7)\n",
    "model.fit(x_train, y_train)\n",
    "\n",
    "prediction = model.predict(x_test)"
   ]
  },
  {
   "cell_type": "code",
   "execution_count": null,
   "metadata": {
    "colab": {
     "base_uri": "https://localhost:8080/"
    },
    "executionInfo": {
     "elapsed": 29,
     "status": "ok",
     "timestamp": 1744918734611,
     "user": {
      "displayName": "Oskar Panicz",
      "userId": "03089802931610276412"
     },
     "user_tz": -120
    },
    "id": "uoTMTPf-P6FT",
    "outputId": "e17b7f57-1fcb-461d-ee28-2423eed56ae8"
   },
   "outputs": [
    {
     "name": "stdout",
     "output_type": "stream",
     "text": [
      "Accuracy: 0.9642857142857143\n",
      "              precision    recall  f1-score   support\n",
      "\n",
      "         2.0       0.97      0.98      0.97        95\n",
      "         4.0       0.95      0.93      0.94        45\n",
      "\n",
      "    accuracy                           0.96       140\n",
      "   macro avg       0.96      0.96      0.96       140\n",
      "weighted avg       0.96      0.96      0.96       140\n",
      "\n"
     ]
    }
   ],
   "source": [
    "print(f'Accuracy: {accuracy_score(y_test, prediction)}')\n",
    "# Wyświetl szczegółowy raport klasyfikacji (precision, recall, f1-score)\n",
    "print(classification_report(y_test, prediction))"
   ]
  }
 ],
 "metadata": {
  "colab": {
   "authorship_tag": "ABX9TyNwr66qDiBNf0yLeXph7A7b",
   "provenance": []
  },
  "kernelspec": {
   "display_name": "Python 3",
   "name": "python3"
  },
  "language_info": {
   "codemirror_mode": {
    "name": "ipython",
    "version": 3
   },
   "file_extension": ".py",
   "mimetype": "text/x-python",
   "name": "python",
   "nbconvert_exporter": "python",
   "pygments_lexer": "ipython3",
   "version": "3.13.1"
  }
 },
 "nbformat": 4,
 "nbformat_minor": 0
}
